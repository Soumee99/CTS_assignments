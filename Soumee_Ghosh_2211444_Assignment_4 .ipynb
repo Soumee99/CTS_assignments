{
 "cells": [
  {
   "cell_type": "markdown",
   "metadata": {
    "id": "JjnX4ygxudBp"
   },
   "source": [
    "## **Install Pyspark and the required jdk** \n"
   ]
  },
  {
   "cell_type": "code",
   "execution_count": 3,
   "metadata": {
    "colab": {
     "base_uri": "https://localhost:8080/"
    },
    "id": "ZrqolIYpvKje",
    "outputId": "89addcfc-1686-4576-87fd-687f446d58a8"
   },
   "outputs": [
    {
     "name": "stdout",
     "output_type": "stream",
     "text": [
      "Looking in indexes: https://pypi.org/simple, https://us-python.pkg.dev/colab-wheels/public/simple/\n",
      "Requirement already satisfied: pyspark in /usr/local/lib/python3.7/dist-packages (3.3.0)\n",
      "Requirement already satisfied: py4j==0.10.9.5 in /usr/local/lib/python3.7/dist-packages (from pyspark) (0.10.9.5)\n",
      "openjdk-8-jdk-headless is already the newest version (8u342-b07-0ubuntu1~18.04).\n",
      "The following package was automatically installed and is no longer required:\n",
      "  libnvidia-common-460\n",
      "Use 'apt autoremove' to remove it.\n",
      "0 upgraded, 0 newly installed, 0 to remove and 27 not upgraded.\n"
     ]
    }
   ],
   "source": [
    "!pip install pyspark\n",
    "!apt install openjdk-8-jdk-headless -qq"
   ]
  },
  {
   "cell_type": "markdown",
   "metadata": {
    "id": "AjK-eKw16aDk"
   },
   "source": [
    "## **Setting the Environment**"
   ]
  },
  {
   "cell_type": "code",
   "execution_count": 4,
   "metadata": {
    "id": "r2eh8NHS6gCt"
   },
   "outputs": [],
   "source": [
    "import os\n",
    "os.environ[\"JAVA_HOME\"]=\"/usr/lib/jvm/java-8-openjdk-amd64\""
   ]
  },
  {
   "cell_type": "markdown",
   "metadata": {
    "id": "sAaG5Nab6wz3"
   },
   "source": [
    "### **Authenticating the Google drive, to use files from google drive**"
   ]
  },
  {
   "cell_type": "code",
   "execution_count": 5,
   "metadata": {
    "id": "XHVXutu1sorV"
   },
   "outputs": [],
   "source": [
    "!pip install -U -q PyDrive\n",
    "from pydrive.auth import GoogleAuth\n",
    "from pydrive.drive import GoogleDrive\n",
    "from google.colab import auth\n",
    "from oauth2client.client import GoogleCredentials\n",
    "auth.authenticate_user()\n",
    "gauth = GoogleAuth()\n",
    "gauth.credentials = GoogleCredentials.get_application_default()\n",
    "drive = GoogleDrive(gauth)"
   ]
  },
  {
   "cell_type": "markdown",
   "metadata": {
    "id": "O3sy-g1176r2"
   },
   "source": [
    "## **Getting the required file from the google drive**"
   ]
  },
  {
   "cell_type": "code",
   "execution_count": 6,
   "metadata": {
    "id": "wIgzoh3otZig"
   },
   "outputs": [],
   "source": [
    "fileDownloaded=drive.CreateFile({'id':'1JGvKKGsxhlM3kY8BGsMSwfYLRGB47v56'})\n",
    "fileDownloaded.GetContentFile('mini_spark_event_data.json')"
   ]
  },
  {
   "cell_type": "markdown",
   "metadata": {
    "id": "pdoXoGA68GwD"
   },
   "source": [
    "## **Importing the necessary libraries & evaluation metrics for our models**"
   ]
  },
  {
   "cell_type": "code",
   "execution_count": 7,
   "metadata": {
    "id": "RugnIx5st_kQ"
   },
   "outputs": [],
   "source": [
    "import numpy as np\n",
    "import pandas as pd\n",
    "from pyspark.sql import SparkSession\n",
    "from pyspark.sql.functions import udf\n",
    "from pyspark.sql import Window\n",
    "from pyspark.sql import functions as F\n",
    "from pyspark.sql.functions import sum as Fsum\n",
    "from pyspark.sql.types import ArrayType, BooleanType, LongType, FloatType, IntegerType\n",
    "from pyspark.sql.functions import lit, udf, struct, countDistinct, collect_list, avg, count, col\n",
    "from pyspark.ml.feature import VectorAssembler, Normalizer, StandardScaler\n",
    "from pyspark.ml.classification import LogisticRegression, RandomForestClassifier, GBTClassifier\n",
    "from pyspark.ml.evaluation import MulticlassClassificationEvaluator, BinaryClassificationEvaluator\n",
    "from pyspark.ml import Pipeline\n",
    "import matplotlib.pyplot as plt\n",
    "from sklearn.metrics import roc_curve\n",
    "from sklearn.metrics import precision_recall_curve\n",
    "from pyspark.ml.tuning import CrossValidator, ParamGridBuilder\n",
    "\n"
   ]
  },
  {
   "cell_type": "markdown",
   "metadata": {
    "id": "5cOdBzRW8vX9"
   },
   "source": [
    "## **Creating a spark session which is the entry point of spark**"
   ]
  },
  {
   "cell_type": "code",
   "execution_count": 9,
   "metadata": {
    "id": "s1Q5GN_MuNGZ"
   },
   "outputs": [],
   "source": [
    "#create the session\n",
    "spark=SparkSession.builder.appName(\"Soumee_Ghosh_2211444_Assignment_4\").getOrCreate()"
   ]
  },
  {
   "cell_type": "markdown",
   "metadata": {
    "id": "CaZxuRDH9SqU"
   },
   "source": [
    "## **Loading and cleaning the dataset**"
   ]
  },
  {
   "cell_type": "markdown",
   "metadata": {
    "id": "SqiwIPDd9d4t"
   },
   "source": [
    "#### Loading and cleaning the dataset to check for missing values or invalid data"
   ]
  },
  {
   "cell_type": "code",
   "execution_count": 11,
   "metadata": {
    "id": "8DCn3nz59p4l"
   },
   "outputs": [],
   "source": [
    "#loading the dataset\n",
    "df=\"mini_spark_event_data.json\"\n",
    "#converting the dataset into a spark dataframe\n",
    "df=spark.read.json(df)"
   ]
  },
  {
   "cell_type": "code",
   "execution_count": 15,
   "metadata": {
    "colab": {
     "base_uri": "https://localhost:8080/"
    },
    "id": "2dSzvsi__TJh",
    "outputId": "848ad476-6199-48c8-9de0-79395dae5606"
   },
   "outputs": [
    {
     "name": "stdout",
     "output_type": "stream",
     "text": [
      "+--------------------+---------+---------+------+-------------+--------+---------+-----+--------------------+------+---------------+-------------+---------+--------------------+------+-------------+--------------------+------+\n",
      "|              artist|     auth|firstName|gender|itemInSession|lastName|   length|level|            location|method|           page| registration|sessionId|                song|status|           ts|           userAgent|userId|\n",
      "+--------------------+---------+---------+------+-------------+--------+---------+-----+--------------------+------+---------------+-------------+---------+--------------------+------+-------------+--------------------+------+\n",
      "|      Martha Tilston|Logged In|    Colin|     M|           50| Freeman|277.89016| paid|     Bakersfield, CA|   PUT|       NextSong|1538173362000|       29|           Rockpools|   200|1538352117000|Mozilla/5.0 (Wind...|    30|\n",
      "|    Five Iron Frenzy|Logged In|    Micah|     M|           79|    Long|236.09424| free|Boston-Cambridge-...|   PUT|       NextSong|1538331630000|        8|              Canada|   200|1538352180000|\"Mozilla/5.0 (Win...|     9|\n",
      "|        Adam Lambert|Logged In|    Colin|     M|           51| Freeman| 282.8273| paid|     Bakersfield, CA|   PUT|       NextSong|1538173362000|       29|   Time For Miracles|   200|1538352394000|Mozilla/5.0 (Wind...|    30|\n",
      "|              Enigma|Logged In|    Micah|     M|           80|    Long|262.71302| free|Boston-Cambridge-...|   PUT|       NextSong|1538331630000|        8|Knocking On Forbi...|   200|1538352416000|\"Mozilla/5.0 (Win...|     9|\n",
      "|           Daft Punk|Logged In|    Colin|     M|           52| Freeman|223.60771| paid|     Bakersfield, CA|   PUT|       NextSong|1538173362000|       29|Harder Better Fas...|   200|1538352676000|Mozilla/5.0 (Wind...|    30|\n",
      "|The All-American ...|Logged In|    Micah|     M|           81|    Long|208.29995| free|Boston-Cambridge-...|   PUT|       NextSong|1538331630000|        8|      Don't Leave Me|   200|1538352678000|\"Mozilla/5.0 (Win...|     9|\n",
      "|The Velvet Underg...|Logged In|    Micah|     M|           82|    Long|260.46649| free|Boston-Cambridge-...|   PUT|       NextSong|1538331630000|        8|         Run Run Run|   200|1538352886000|\"Mozilla/5.0 (Win...|     9|\n",
      "|        Starflyer 59|Logged In|    Colin|     M|           53| Freeman|185.44281| paid|     Bakersfield, CA|   PUT|       NextSong|1538173362000|       29|Passengers (Old A...|   200|1538352899000|Mozilla/5.0 (Wind...|    30|\n",
      "|                null|Logged In|    Colin|     M|           54| Freeman|     null| paid|     Bakersfield, CA|   PUT|Add to Playlist|1538173362000|       29|                null|   200|1538352905000|Mozilla/5.0 (Wind...|    30|\n",
      "|            Frumpies|Logged In|    Colin|     M|           55| Freeman|134.47791| paid|     Bakersfield, CA|   PUT|       NextSong|1538173362000|       29|          Fuck Kitty|   200|1538353084000|Mozilla/5.0 (Wind...|    30|\n",
      "|        Britt Nicole|Logged In|    Micah|     M|           83|    Long| 229.8771| free|Boston-Cambridge-...|   PUT|       NextSong|1538331630000|        8|   Walk On The Water|   200|1538353146000|\"Mozilla/5.0 (Win...|     9|\n",
      "|                null|Logged In|    Micah|     M|           84|    Long|     null| free|Boston-Cambridge-...|   GET|    Roll Advert|1538331630000|        8|                null|   200|1538353150000|\"Mozilla/5.0 (Win...|     9|\n",
      "|Edward Sharpe & T...|Logged In|    Colin|     M|           56| Freeman|223.58159| paid|     Bakersfield, CA|   PUT|       NextSong|1538173362000|       29|                Jade|   200|1538353218000|Mozilla/5.0 (Wind...|    30|\n",
      "|               Tesla|Logged In|    Micah|     M|           85|    Long|201.06404| free|Boston-Cambridge-...|   PUT|       NextSong|1538331630000|        8|      Gettin' Better|   200|1538353375000|\"Mozilla/5.0 (Win...|     9|\n",
      "|                null|Logged In|    Micah|     M|           86|    Long|     null| free|Boston-Cambridge-...|   PUT|      Thumbs Up|1538331630000|        8|                null|   307|1538353376000|\"Mozilla/5.0 (Win...|     9|\n",
      "|         Stan Mosley|Logged In|    Colin|     M|           57| Freeman|246.69995| paid|     Bakersfield, CA|   PUT|       NextSong|1538173362000|       29|   So-Called Friends|   200|1538353441000|Mozilla/5.0 (Wind...|    30|\n",
      "|Florence + The Ma...|Logged In|    Micah|     M|           87|    Long|168.64608| free|Boston-Cambridge-...|   PUT|       NextSong|1538331630000|        8| You've Got The Love|   200|1538353576000|\"Mozilla/5.0 (Win...|     9|\n",
      "|   Tokyo Police Club|Logged In|  Ashlynn|     F|            0|Williams| 166.1122| free|     Tallahassee, FL|   PUT|       NextSong|1537365219000|      217|Citizens Of Tomorrow|   200|1538353668000|\"Mozilla/5.0 (Mac...|    74|\n",
      "|             Orishas|Logged In|    Colin|     M|           58| Freeman|222.22322| paid|     Bakersfield, CA|   PUT|       NextSong|1538173362000|       29|           Represent|   200|1538353687000|Mozilla/5.0 (Wind...|    30|\n",
      "|             Ratatat|Logged In|    Micah|     M|           88|    Long|229.77261| free|Boston-Cambridge-...|   PUT|       NextSong|1538331630000|        8|              Swisha|   200|1538353744000|\"Mozilla/5.0 (Win...|     9|\n",
      "+--------------------+---------+---------+------+-------------+--------+---------+-----+--------------------+------+---------------+-------------+---------+--------------------+------+-------------+--------------------+------+\n",
      "only showing top 20 rows\n",
      "\n"
     ]
    }
   ],
   "source": [
    "#In Spark dataframef.show() is used to display the contents of the DataFrame in a Table Row & Column Format\n",
    "df.show()"
   ]
  },
  {
   "cell_type": "code",
   "execution_count": 16,
   "metadata": {
    "id": "9puE1xQ8wfw3"
   },
   "outputs": [],
   "source": [
    "# Cleaning the Dataset\n",
    "df = df.drop(*['artist','song','firstName', 'lastName', 'id_copy'])             # dropping some irrelevant columns\n",
    "df = df.dropna(how = 'any', subset = ['userId', 'sessionId'])                   # droppping some potential NA values\n",
    "df = df.filter(df.userId!='').orderBy([\"userId\", \"ts\"], ascending=[True, True]) # filtering out the invalid Ids\n",
    "df = df.withColumn(\"userId\", df[\"userId\"].cast(IntegerType()))                  # Casting UserId into an Integer datatype\n",
    "\n"
   ]
  },
  {
   "cell_type": "markdown",
   "metadata": {
    "id": "hDrqNdn4AbdJ"
   },
   "source": [
    "**CHURN : Churn analytics is the process of measuring the rate at which customers quit the product, site, or service. It answers the questions “Are we losing customers?” and “If so, how?” to allow teams to take action. Lower churn rates lead to happier customers, larger margins, and higher profit**"
   ]
  },
  {
   "cell_type": "code",
   "execution_count": 17,
   "metadata": {
    "id": "G_GpMVXJww2l"
   },
   "outputs": [],
   "source": [
    "# Defining the Churn\n",
    "# These are Customers landing on the Cancellation Confirmation page\n",
    "#PySpark UDF is a User Defined Function that is used to create a reusable function in Spark. \n",
    "#Once UDF created, that can be re-used on multiple DataFrames \n",
    "cancelation = udf(lambda x: 1 if x == \"Cancellation Confirmation\" else 0, \n",
    "                  IntegerType())  \n",
    "#here we are defining a function cancelation where when x= cancellation confirmed then x=1 else 0 i.e. we are converting into Integer type \n",
    "\n",
    "#.withColumn function in spark is a transformation function \n",
    "df = df.withColumn(\"churn\", cancelation(\"page\"))\n",
    "\n",
    "#Window function is also a transformation function.\n",
    "#PySpark Window function performs statistical operations such as rank, row number, etc. on a group, frame, \n",
    "# or collection of rows and returns results for each row individually. \n",
    "window = Window.partitionBy(\"userId\").rangeBetween(Window.unboundedPreceding, \n",
    "                                                   Window.unboundedFollowing)\n",
    "#here we are using window function to partition the data by userId, \n",
    "# rangeBetween is used to specify both start and end are relative positions from the current row.\n",
    "\n",
    "\n",
    "#returns a new column churn by replacing it with sum of churn values calculated by partitioning over userId using window function\n",
    "df = df.withColumn(\"churn\", Fsum(\"churn\").over(window))\n",
    "\n"
   ]
  },
  {
   "cell_type": "code",
   "execution_count": 19,
   "metadata": {
    "id": "E0Mz4IEYxaqM"
   },
   "outputs": [],
   "source": [
    "##Some new columns were made in this step to make the data exploration easier,\n",
    "# the Feature engineering step comes later\n",
    "# Making the level_shift Column\n",
    "# This column tells us how many times did the customer switched\n",
    "# from paid to free service\n",
    "#using the window function \n",
    "window1 = Window.partitionBy().orderBy([\"userId\", \"ts\"])\n",
    "df = df.withColumn(\"level_shift\", (df.level!=F.lag(df.level).over(window1)) | \n",
    "                   (df.userId!=F.lag(df.userId).over(window1)))\n",
    "#replacing the null values \n",
    "df=df.fillna({'level_shift':0})\n",
    "df= df.withColumn(\"level_shift\", F.when(df[\"level_shift\"]==False, 0).otherwise(1))"
   ]
  },
  {
   "cell_type": "code",
   "execution_count": 20,
   "metadata": {
    "id": "ndoQEilax26w"
   },
   "outputs": [],
   "source": [
    "# Making the last_ts column\n",
    "# This column will help us to select only records that happened in the\n",
    "# last 2 weeks of customer activity\n",
    "# The idea is that customer behavior should be different shortly before\n",
    "# the churn happened\n",
    "df= df.withColumn(\"ts\", df.ts/1000)                        # trimming the last three zeros from the UNIX time (miliseconds)\n",
    "#replacing the existing column registrations with registrations/1000\n",
    "df= df.withColumn(\"registration\", df.registration/1000)"
   ]
  },
  {
   "cell_type": "code",
   "execution_count": 23,
   "metadata": {
    "id": "_g2mPcJ2CvZR"
   },
   "outputs": [],
   "source": [
    "window2 = Window.partitionBy(\"userId\")\n",
    "df=df.withColumn(\"last_ts\",F.max('ts').over(window))\n",
    "#filtering rows using the given condition\n",
    "df=df.filter(df.last_ts-df.ts < 1300000)  #approx no of sec in 2 weeks"
   ]
  },
  {
   "cell_type": "code",
   "execution_count": 24,
   "metadata": {
    "id": "uWzhLYCB0ISr"
   },
   "outputs": [],
   "source": [
    "# Making the Columns: pages_per_session, diff_time\n",
    "# pages_per_session is number of pages per session\n",
    "# diff_time is a number of days since a specific page was visited\n",
    "#Using the window function to partition data by userid and sessionid\n",
    "window3 = Window.partitionBy([\"userId\", \"sessionId\"])\n",
    "df= df.withColumn(\"pages_per_session\", F.max('ItemInSession').over(window3))\n",
    "df = df.withColumn(\"ts_time\",F.to_timestamp(df.ts))                    #  unix to datetime\n",
    "df = df.withColumn(\"last_ts_time\",F.to_timestamp(df.last_ts))          # unix to datetime"
   ]
  },
  {
   "cell_type": "code",
   "execution_count": 25,
   "metadata": {
    "id": "UUSDfkZD0NUP"
   },
   "outputs": [],
   "source": [
    "df = df.withColumn(\"diff_time\",F.datediff(df.last_ts_time, df.ts_time))  # how many days ago was the page visited\n",
    "df=df.orderBy([\"userId\", \"ts\"], ascending=[True, True])                   #ordering by userId and ts in ascending order\n",
    "df.createOrReplaceTempView('data');                                    # Create a Temp Table i.e. a view to be used for SQL queries"
   ]
  },
  {
   "cell_type": "code",
   "execution_count": 26,
   "metadata": {
    "colab": {
     "base_uri": "https://localhost:8080/",
     "height": 310
    },
    "id": "BQSCv3HpFbrf",
    "outputId": "fe688785-3571-4330-acae-fefdff92b585"
   },
   "outputs": [
    {
     "data": {
      "text/html": [
       "\n",
       "  <div id=\"df-9a56237a-f18b-47d9-b807-f21e5653eee3\">\n",
       "    <div class=\"colab-df-container\">\n",
       "      <div>\n",
       "<style scoped>\n",
       "    .dataframe tbody tr th:only-of-type {\n",
       "        vertical-align: middle;\n",
       "    }\n",
       "\n",
       "    .dataframe tbody tr th {\n",
       "        vertical-align: top;\n",
       "    }\n",
       "\n",
       "    .dataframe thead th {\n",
       "        text-align: right;\n",
       "    }\n",
       "</style>\n",
       "<table border=\"1\" class=\"dataframe\">\n",
       "  <thead>\n",
       "    <tr style=\"text-align: right;\">\n",
       "      <th></th>\n",
       "      <th>auth</th>\n",
       "      <th>gender</th>\n",
       "      <th>itemInSession</th>\n",
       "      <th>length</th>\n",
       "      <th>level</th>\n",
       "      <th>location</th>\n",
       "      <th>method</th>\n",
       "      <th>page</th>\n",
       "      <th>registration</th>\n",
       "      <th>sessionId</th>\n",
       "      <th>...</th>\n",
       "      <th>ts</th>\n",
       "      <th>userAgent</th>\n",
       "      <th>userId</th>\n",
       "      <th>churn</th>\n",
       "      <th>level_shift</th>\n",
       "      <th>last_ts</th>\n",
       "      <th>pages_per_session</th>\n",
       "      <th>ts_time</th>\n",
       "      <th>last_ts_time</th>\n",
       "      <th>diff_time</th>\n",
       "    </tr>\n",
       "  </thead>\n",
       "  <tbody>\n",
       "    <tr>\n",
       "      <th>0</th>\n",
       "      <td>Logged In</td>\n",
       "      <td>F</td>\n",
       "      <td>0</td>\n",
       "      <td>286.40608</td>\n",
       "      <td>paid</td>\n",
       "      <td>Raleigh, NC</td>\n",
       "      <td>PUT</td>\n",
       "      <td>NextSong</td>\n",
       "      <td>1536799.77</td>\n",
       "      <td>1</td>\n",
       "      <td>...</td>\n",
       "      <td>1538974.195</td>\n",
       "      <td>\"Mozilla/5.0 (Windows NT 6.1; WOW64) AppleWebK...</td>\n",
       "      <td>2</td>\n",
       "      <td>0</td>\n",
       "      <td>0</td>\n",
       "      <td>1542839.404</td>\n",
       "      <td>443</td>\n",
       "      <td>1970-01-18 19:29:34.195</td>\n",
       "      <td>1970-01-18 20:33:59.404</td>\n",
       "      <td>0</td>\n",
       "    </tr>\n",
       "    <tr>\n",
       "      <th>1</th>\n",
       "      <td>Logged In</td>\n",
       "      <td>F</td>\n",
       "      <td>1</td>\n",
       "      <td>180.84526</td>\n",
       "      <td>paid</td>\n",
       "      <td>Raleigh, NC</td>\n",
       "      <td>PUT</td>\n",
       "      <td>NextSong</td>\n",
       "      <td>1536799.77</td>\n",
       "      <td>1</td>\n",
       "      <td>...</td>\n",
       "      <td>1538974.481</td>\n",
       "      <td>\"Mozilla/5.0 (Windows NT 6.1; WOW64) AppleWebK...</td>\n",
       "      <td>2</td>\n",
       "      <td>0</td>\n",
       "      <td>0</td>\n",
       "      <td>1542839.404</td>\n",
       "      <td>443</td>\n",
       "      <td>1970-01-18 19:29:34.481</td>\n",
       "      <td>1970-01-18 20:33:59.404</td>\n",
       "      <td>0</td>\n",
       "    </tr>\n",
       "  </tbody>\n",
       "</table>\n",
       "<p>2 rows × 21 columns</p>\n",
       "</div>\n",
       "      <button class=\"colab-df-convert\" onclick=\"convertToInteractive('df-9a56237a-f18b-47d9-b807-f21e5653eee3')\"\n",
       "              title=\"Convert this dataframe to an interactive table.\"\n",
       "              style=\"display:none;\">\n",
       "        \n",
       "  <svg xmlns=\"http://www.w3.org/2000/svg\" height=\"24px\"viewBox=\"0 0 24 24\"\n",
       "       width=\"24px\">\n",
       "    <path d=\"M0 0h24v24H0V0z\" fill=\"none\"/>\n",
       "    <path d=\"M18.56 5.44l.94 2.06.94-2.06 2.06-.94-2.06-.94-.94-2.06-.94 2.06-2.06.94zm-11 1L8.5 8.5l.94-2.06 2.06-.94-2.06-.94L8.5 2.5l-.94 2.06-2.06.94zm10 10l.94 2.06.94-2.06 2.06-.94-2.06-.94-.94-2.06-.94 2.06-2.06.94z\"/><path d=\"M17.41 7.96l-1.37-1.37c-.4-.4-.92-.59-1.43-.59-.52 0-1.04.2-1.43.59L10.3 9.45l-7.72 7.72c-.78.78-.78 2.05 0 2.83L4 21.41c.39.39.9.59 1.41.59.51 0 1.02-.2 1.41-.59l7.78-7.78 2.81-2.81c.8-.78.8-2.07 0-2.86zM5.41 20L4 18.59l7.72-7.72 1.47 1.35L5.41 20z\"/>\n",
       "  </svg>\n",
       "      </button>\n",
       "      \n",
       "  <style>\n",
       "    .colab-df-container {\n",
       "      display:flex;\n",
       "      flex-wrap:wrap;\n",
       "      gap: 12px;\n",
       "    }\n",
       "\n",
       "    .colab-df-convert {\n",
       "      background-color: #E8F0FE;\n",
       "      border: none;\n",
       "      border-radius: 50%;\n",
       "      cursor: pointer;\n",
       "      display: none;\n",
       "      fill: #1967D2;\n",
       "      height: 32px;\n",
       "      padding: 0 0 0 0;\n",
       "      width: 32px;\n",
       "    }\n",
       "\n",
       "    .colab-df-convert:hover {\n",
       "      background-color: #E2EBFA;\n",
       "      box-shadow: 0px 1px 2px rgba(60, 64, 67, 0.3), 0px 1px 3px 1px rgba(60, 64, 67, 0.15);\n",
       "      fill: #174EA6;\n",
       "    }\n",
       "\n",
       "    [theme=dark] .colab-df-convert {\n",
       "      background-color: #3B4455;\n",
       "      fill: #D2E3FC;\n",
       "    }\n",
       "\n",
       "    [theme=dark] .colab-df-convert:hover {\n",
       "      background-color: #434B5C;\n",
       "      box-shadow: 0px 1px 3px 1px rgba(0, 0, 0, 0.15);\n",
       "      filter: drop-shadow(0px 1px 2px rgba(0, 0, 0, 0.3));\n",
       "      fill: #FFFFFF;\n",
       "    }\n",
       "  </style>\n",
       "\n",
       "      <script>\n",
       "        const buttonEl =\n",
       "          document.querySelector('#df-9a56237a-f18b-47d9-b807-f21e5653eee3 button.colab-df-convert');\n",
       "        buttonEl.style.display =\n",
       "          google.colab.kernel.accessAllowed ? 'block' : 'none';\n",
       "\n",
       "        async function convertToInteractive(key) {\n",
       "          const element = document.querySelector('#df-9a56237a-f18b-47d9-b807-f21e5653eee3');\n",
       "          const dataTable =\n",
       "            await google.colab.kernel.invokeFunction('convertToInteractive',\n",
       "                                                     [key], {});\n",
       "          if (!dataTable) return;\n",
       "\n",
       "          const docLinkHtml = 'Like what you see? Visit the ' +\n",
       "            '<a target=\"_blank\" href=https://colab.research.google.com/notebooks/data_table.ipynb>data table notebook</a>'\n",
       "            + ' to learn more about interactive tables.';\n",
       "          element.innerHTML = '';\n",
       "          dataTable['output_type'] = 'display_data';\n",
       "          await google.colab.output.renderOutput(dataTable, element);\n",
       "          const docLink = document.createElement('div');\n",
       "          docLink.innerHTML = docLinkHtml;\n",
       "          element.appendChild(docLink);\n",
       "        }\n",
       "      </script>\n",
       "    </div>\n",
       "  </div>\n",
       "  "
      ],
      "text/plain": [
       "        auth gender  itemInSession     length level     location method  \\\n",
       "0  Logged In      F              0  286.40608  paid  Raleigh, NC    PUT   \n",
       "1  Logged In      F              1  180.84526  paid  Raleigh, NC    PUT   \n",
       "\n",
       "       page  registration  sessionId  ...           ts  \\\n",
       "0  NextSong    1536799.77          1  ...  1538974.195   \n",
       "1  NextSong    1536799.77          1  ...  1538974.481   \n",
       "\n",
       "                                           userAgent userId  churn  \\\n",
       "0  \"Mozilla/5.0 (Windows NT 6.1; WOW64) AppleWebK...      2      0   \n",
       "1  \"Mozilla/5.0 (Windows NT 6.1; WOW64) AppleWebK...      2      0   \n",
       "\n",
       "   level_shift      last_ts  pages_per_session                 ts_time  \\\n",
       "0            0  1542839.404                443 1970-01-18 19:29:34.195   \n",
       "1            0  1542839.404                443 1970-01-18 19:29:34.481   \n",
       "\n",
       "             last_ts_time diff_time  \n",
       "0 1970-01-18 20:33:59.404         0  \n",
       "1 1970-01-18 20:33:59.404         0  \n",
       "\n",
       "[2 rows x 21 columns]"
      ]
     },
     "execution_count": 26,
     "metadata": {},
     "output_type": "execute_result"
    }
   ],
   "source": [
    "#Data Preview\n",
    "df.limit(2).toPandas()"
   ]
  },
  {
   "cell_type": "code",
   "execution_count": 27,
   "metadata": {
    "colab": {
     "base_uri": "https://localhost:8080/"
    },
    "id": "oBRbVHnV0xSt",
    "outputId": "56b50a3f-5e5c-445a-cf7f-c5efcbe9a049"
   },
   "outputs": [
    {
     "name": "stdout",
     "output_type": "stream",
     "text": [
      "+--------------------+-----------+\n",
      "|                page|count(page)|\n",
      "+--------------------+-----------+\n",
      "|              Cancel|         52|\n",
      "|    Submit Downgrade|         63|\n",
      "|         Thumbs Down|       2546|\n",
      "|                Home|      10082|\n",
      "|           Downgrade|       2055|\n",
      "|         Roll Advert|       3933|\n",
      "|              Logout|       3226|\n",
      "|       Save Settings|        310|\n",
      "|Cancellation Conf...|         52|\n",
      "|               About|        495|\n",
      "|            Settings|       1514|\n",
      "|     Add to Playlist|       6526|\n",
      "|          Add Friend|       4277|\n",
      "|            NextSong|     228108|\n",
      "|           Thumbs Up|      12551|\n",
      "|                Help|       1454|\n",
      "|             Upgrade|        499|\n",
      "|               Error|        252|\n",
      "|      Submit Upgrade|        159|\n",
      "+--------------------+-----------+\n",
      "\n"
     ]
    }
   ],
   "source": [
    "# The column \"page\" seems to be most informative in the whole dataset\n",
    "# It shows which pages of the service were visited by users, timestamp is also provided\n",
    "# This column can be used to engineer useful features\n",
    "#using the group by function to group pages and showing the count of pages visited by users\n",
    "df.select('page','UserId').groupby('page').agg({'page':'count'}).select('page','count(page)').show()"
   ]
  },
  {
   "cell_type": "code",
   "execution_count": 28,
   "metadata": {
    "colab": {
     "base_uri": "https://localhost:8080/"
    },
    "id": "tPkSPnZ1GaAk",
    "outputId": "d2e173ce-190f-44cf-9236-a50a43fa438f"
   },
   "outputs": [
    {
     "name": "stdout",
     "output_type": "stream",
     "text": [
      "root\n",
      " |-- auth: string (nullable = true)\n",
      " |-- gender: string (nullable = true)\n",
      " |-- itemInSession: long (nullable = true)\n",
      " |-- length: double (nullable = true)\n",
      " |-- level: string (nullable = true)\n",
      " |-- location: string (nullable = true)\n",
      " |-- method: string (nullable = true)\n",
      " |-- page: string (nullable = true)\n",
      " |-- registration: double (nullable = true)\n",
      " |-- sessionId: long (nullable = true)\n",
      " |-- status: long (nullable = true)\n",
      " |-- ts: double (nullable = true)\n",
      " |-- userAgent: string (nullable = true)\n",
      " |-- userId: integer (nullable = true)\n",
      " |-- churn: long (nullable = true)\n",
      " |-- level_shift: integer (nullable = false)\n",
      " |-- last_ts: double (nullable = true)\n",
      " |-- pages_per_session: long (nullable = true)\n",
      " |-- ts_time: timestamp (nullable = true)\n",
      " |-- last_ts_time: timestamp (nullable = true)\n",
      " |-- diff_time: integer (nullable = true)\n",
      "\n"
     ]
    }
   ],
   "source": [
    "#Checking out the schema\n",
    "df.printSchema()"
   ]
  },
  {
   "cell_type": "code",
   "execution_count": 29,
   "metadata": {
    "colab": {
     "base_uri": "https://localhost:8080/",
     "height": 176
    },
    "id": "dx9IXIyU1giC",
    "outputId": "18e7edc6-0089-4331-e7e0-aa7d8f7b5a6f"
   },
   "outputs": [
    {
     "data": {
      "text/html": [
       "\n",
       "  <div id=\"df-53cbf957-5b13-41eb-a8e3-2ad3736d42fa\">\n",
       "    <div class=\"colab-df-container\">\n",
       "      <div>\n",
       "<style scoped>\n",
       "    .dataframe tbody tr th:only-of-type {\n",
       "        vertical-align: middle;\n",
       "    }\n",
       "\n",
       "    .dataframe tbody tr th {\n",
       "        vertical-align: top;\n",
       "    }\n",
       "\n",
       "    .dataframe thead th {\n",
       "        text-align: right;\n",
       "    }\n",
       "</style>\n",
       "<table border=\"1\" class=\"dataframe\">\n",
       "  <thead>\n",
       "    <tr style=\"text-align: right;\">\n",
       "      <th></th>\n",
       "      <th>label</th>\n",
       "      <th>cnt</th>\n",
       "      <th>song_count</th>\n",
       "      <th>error</th>\n",
       "      <th>friends</th>\n",
       "      <th>playlist_count</th>\n",
       "      <th>thumbs_up</th>\n",
       "      <th>thumbs_down</th>\n",
       "      <th>downgrade</th>\n",
       "      <th>count_session_dist</th>\n",
       "      <th>count_diff_time</th>\n",
       "      <th>pages_per_session</th>\n",
       "      <th>duration</th>\n",
       "      <th>level_shift</th>\n",
       "      <th>usage_time</th>\n",
       "    </tr>\n",
       "  </thead>\n",
       "  <tbody>\n",
       "    <tr>\n",
       "      <th>0</th>\n",
       "      <td>0</td>\n",
       "      <td>173</td>\n",
       "      <td>1108.173410</td>\n",
       "      <td>1.271676</td>\n",
       "      <td>21.046243</td>\n",
       "      <td>31.722543</td>\n",
       "      <td>61.803468</td>\n",
       "      <td>11.849711</td>\n",
       "      <td>9.930636</td>\n",
       "      <td>15.254335</td>\n",
       "      <td>1.0</td>\n",
       "      <td>90.637949</td>\n",
       "      <td>0.086621</td>\n",
       "      <td>2.034682</td>\n",
       "      <td>276166.937468</td>\n",
       "    </tr>\n",
       "    <tr>\n",
       "      <th>1</th>\n",
       "      <td>1</td>\n",
       "      <td>52</td>\n",
       "      <td>699.884615</td>\n",
       "      <td>0.615385</td>\n",
       "      <td>12.230769</td>\n",
       "      <td>19.961538</td>\n",
       "      <td>35.750000</td>\n",
       "      <td>9.538462</td>\n",
       "      <td>6.480769</td>\n",
       "      <td>10.326923</td>\n",
       "      <td>1.0</td>\n",
       "      <td>80.108614</td>\n",
       "      <td>0.057306</td>\n",
       "      <td>1.788462</td>\n",
       "      <td>174014.268551</td>\n",
       "    </tr>\n",
       "  </tbody>\n",
       "</table>\n",
       "</div>\n",
       "      <button class=\"colab-df-convert\" onclick=\"convertToInteractive('df-53cbf957-5b13-41eb-a8e3-2ad3736d42fa')\"\n",
       "              title=\"Convert this dataframe to an interactive table.\"\n",
       "              style=\"display:none;\">\n",
       "        \n",
       "  <svg xmlns=\"http://www.w3.org/2000/svg\" height=\"24px\"viewBox=\"0 0 24 24\"\n",
       "       width=\"24px\">\n",
       "    <path d=\"M0 0h24v24H0V0z\" fill=\"none\"/>\n",
       "    <path d=\"M18.56 5.44l.94 2.06.94-2.06 2.06-.94-2.06-.94-.94-2.06-.94 2.06-2.06.94zm-11 1L8.5 8.5l.94-2.06 2.06-.94-2.06-.94L8.5 2.5l-.94 2.06-2.06.94zm10 10l.94 2.06.94-2.06 2.06-.94-2.06-.94-.94-2.06-.94 2.06-2.06.94z\"/><path d=\"M17.41 7.96l-1.37-1.37c-.4-.4-.92-.59-1.43-.59-.52 0-1.04.2-1.43.59L10.3 9.45l-7.72 7.72c-.78.78-.78 2.05 0 2.83L4 21.41c.39.39.9.59 1.41.59.51 0 1.02-.2 1.41-.59l7.78-7.78 2.81-2.81c.8-.78.8-2.07 0-2.86zM5.41 20L4 18.59l7.72-7.72 1.47 1.35L5.41 20z\"/>\n",
       "  </svg>\n",
       "      </button>\n",
       "      \n",
       "  <style>\n",
       "    .colab-df-container {\n",
       "      display:flex;\n",
       "      flex-wrap:wrap;\n",
       "      gap: 12px;\n",
       "    }\n",
       "\n",
       "    .colab-df-convert {\n",
       "      background-color: #E8F0FE;\n",
       "      border: none;\n",
       "      border-radius: 50%;\n",
       "      cursor: pointer;\n",
       "      display: none;\n",
       "      fill: #1967D2;\n",
       "      height: 32px;\n",
       "      padding: 0 0 0 0;\n",
       "      width: 32px;\n",
       "    }\n",
       "\n",
       "    .colab-df-convert:hover {\n",
       "      background-color: #E2EBFA;\n",
       "      box-shadow: 0px 1px 2px rgba(60, 64, 67, 0.3), 0px 1px 3px 1px rgba(60, 64, 67, 0.15);\n",
       "      fill: #174EA6;\n",
       "    }\n",
       "\n",
       "    [theme=dark] .colab-df-convert {\n",
       "      background-color: #3B4455;\n",
       "      fill: #D2E3FC;\n",
       "    }\n",
       "\n",
       "    [theme=dark] .colab-df-convert:hover {\n",
       "      background-color: #434B5C;\n",
       "      box-shadow: 0px 1px 3px 1px rgba(0, 0, 0, 0.15);\n",
       "      filter: drop-shadow(0px 1px 2px rgba(0, 0, 0, 0.3));\n",
       "      fill: #FFFFFF;\n",
       "    }\n",
       "  </style>\n",
       "\n",
       "      <script>\n",
       "        const buttonEl =\n",
       "          document.querySelector('#df-53cbf957-5b13-41eb-a8e3-2ad3736d42fa button.colab-df-convert');\n",
       "        buttonEl.style.display =\n",
       "          google.colab.kernel.accessAllowed ? 'block' : 'none';\n",
       "\n",
       "        async function convertToInteractive(key) {\n",
       "          const element = document.querySelector('#df-53cbf957-5b13-41eb-a8e3-2ad3736d42fa');\n",
       "          const dataTable =\n",
       "            await google.colab.kernel.invokeFunction('convertToInteractive',\n",
       "                                                     [key], {});\n",
       "          if (!dataTable) return;\n",
       "\n",
       "          const docLinkHtml = 'Like what you see? Visit the ' +\n",
       "            '<a target=\"_blank\" href=https://colab.research.google.com/notebooks/data_table.ipynb>data table notebook</a>'\n",
       "            + ' to learn more about interactive tables.';\n",
       "          element.innerHTML = '';\n",
       "          dataTable['output_type'] = 'display_data';\n",
       "          await google.colab.output.renderOutput(dataTable, element);\n",
       "          const docLink = document.createElement('div');\n",
       "          docLink.innerHTML = docLinkHtml;\n",
       "          element.appendChild(docLink);\n",
       "        }\n",
       "      </script>\n",
       "    </div>\n",
       "  </div>\n",
       "  "
      ],
      "text/plain": [
       "   label  cnt   song_count     error    friends  playlist_count  thumbs_up  \\\n",
       "0      0  173  1108.173410  1.271676  21.046243       31.722543  61.803468   \n",
       "1      1   52   699.884615  0.615385  12.230769       19.961538  35.750000   \n",
       "\n",
       "   thumbs_down  downgrade  count_session_dist  count_diff_time  \\\n",
       "0    11.849711   9.930636           15.254335              1.0   \n",
       "1     9.538462   6.480769           10.326923              1.0   \n",
       "\n",
       "   pages_per_session  duration  level_shift     usage_time  \n",
       "0          90.637949  0.086621     2.034682  276166.937468  \n",
       "1          80.108614  0.057306     1.788462  174014.268551  "
      ]
     },
     "execution_count": 29,
     "metadata": {},
     "output_type": "execute_result"
    }
   ],
   "source": [
    "# Investigation if there are differences between churned and non-churned users\n",
    "# label             - 0 if non_churned, 1 if churned\n",
    "# song_count        - avg number of songs played by churned/non_churned users\n",
    "# error             - avg number of errors occuring \n",
    "# friends           - avg number of \"friends\" on thhe application\n",
    "# playlist_count    - avg number of visits to the Playlist page\n",
    "# thumbs_up         - avg number of clicking the 'thumbs up'\n",
    "# thumbs_down       - avg number of clicking the 'thumbs down'\n",
    "# downgrade         - avg number of visits to the downgrade page\n",
    "# count_session_dist- avg number of sessions made\n",
    "# count_diff_time   - avg number of days (in the last two weeks) in which the user used the app\n",
    "# pages per session - avg numbers of pages (or any activity or changes) per session\n",
    "# duration          - avg number of days since the user joined (division with 86400 as a proxy of seconds within a day)\n",
    "# level_shift       - avg number of level changes (free, paid) per customer\n",
    "# usage_time        - avg total time spent using the app\n",
    "stats = spark.sql(\" WITH prep as( \\\n",
    "SELECT userId, \\\n",
    "max(churn)                                                          as label, \\\n",
    "count(case when page = 'NextSong' then userId else null end)        as song_count, \\\n",
    "count(case when page = 'Error' then userId else null end)           as error, \\\n",
    "count(case when page = 'Add Friend' then userId else null end)      as friends, \\\n",
    "count(case when page = 'Add to Playlist' then userId else null end) as playlist_count, \\\n",
    "count(case when page = 'Thumbs Up' then userId else null end)       as thumbs_up, \\\n",
    "count(case when page = 'Thumbs Down' then userId else null end)     as thumbs_down, \\\n",
    "count(case when page = 'Downgrade' then userId else null end)       as downgrade, \\\n",
    "count(distinct sessionId)                                           as count_session_dist, \\\n",
    "count(distinct diff_time)                                           as count_diff_time, \\\n",
    "avg(distinct pages_per_session)                                     as pages_per_session, \\\n",
    "(max(ts) - min(registration))/86400                                 as duration, \\\n",
    "sum(level_shift)                                                    as level_shift, \\\n",
    "sum(length)                                                         as usage_time \\\n",
    "FROM data \\\n",
    "GROUP BY userId) \\\n",
    "SELECT label, \\\n",
    "count(label)             as cnt, \\\n",
    "avg(song_count)          as song_count, \\\n",
    "avg(error)               as error, \\\n",
    "avg(friends)             as friends, \\\n",
    "avg(playlist_count)      as playlist_count, \\\n",
    "avg(thumbs_up)           as thumbs_up, \\\n",
    "avg(thumbs_down)         as thumbs_down, \\\n",
    "avg(downgrade)           as downgrade, \\\n",
    "avg(count_session_dist)  as count_session_dist, \\\n",
    "avg(count_diff_time)     as count_diff_time, \\\n",
    "avg(pages_per_session)   as pages_per_session, \\\n",
    "avg(duration)            as duration, \\\n",
    "avg (level_shift)        as level_shift, \\\n",
    "avg(usage_time)          as usage_time \\\n",
    "FROM prep \\\n",
    "GROUP BY label\")\n",
    "# We can see that for most dimensions/features there are differences between\n",
    "# churned and non-churned users\n",
    "# we are convertiing the stats results into a pandas dataframe\n",
    "stats.toPandas()\n",
    "\n"
   ]
  },
  {
   "cell_type": "markdown",
   "metadata": {
    "id": "uNCOTsa1Hpvz"
   },
   "source": [
    "## **Feature Engineering**\n"
   ]
  },
  {
   "cell_type": "code",
   "execution_count": 31,
   "metadata": {
    "id": "-yqmVpn7M__9"
   },
   "outputs": [],
   "source": [
    " #Feature Enigneering\n",
    "# Based on the previous analysis, all 14 investigated features will be included. \n",
    "# Here I am making a Temp Table which holds all the features.\n",
    "# The temp table will be used as model input\n",
    "# All data is aggregated per userId\n",
    "features = spark.sql(\"SELECT userId, \\\n",
    "max(churn)                                                          as label, \\\n",
    "count(case when page = 'NextSong' then userId else null end)        as song_count, \\\n",
    "count(case when page = 'Error' then userId else null end)           as error, \\\n",
    "count(case when page = 'Add Friend' then userId else null end)      as friends, \\\n",
    "count(case when page = 'Add to Playlist' then userId else null end) as playlist_count, \\\n",
    "count(case when page = 'Thumbs Up' then userId else null end)       as thumbs_up, \\\n",
    "count(case when page = 'Thumbs Down' then userId else null end)     as thumbs_down, \\\n",
    "count(case when page = 'Downgrade' then userId else null end)       as downgrade, \\\n",
    "count(distinct sessionId)                                           as count_session_dist, \\\n",
    "count(distinct diff_time)                                           as count_diff_time, \\\n",
    "round(avg(distinct pages_per_session),0)                            as pages_per_session, \\\n",
    "round((max(ts) - min(registration))/86400,0)                        as duration, \\\n",
    "round(sum(level_shift),0)                                           as level_shift, \\\n",
    "round(sum(length),0)                                                as usage_time \\\n",
    "FROM data \\\n",
    "GROUP BY userId\");\n",
    "features.createOrReplaceTempView('features');\n",
    "features=features.na.drop() #dropping the null values"
   ]
  },
  {
   "cell_type": "markdown",
   "metadata": {
    "id": "52rnC8WlZqzw"
   },
   "source": [
    "## **Model Buuilding**"
   ]
  },
  {
   "cell_type": "code",
   "execution_count": 32,
   "metadata": {
    "id": "mFOehCdVNJQR"
   },
   "outputs": [],
   "source": [
    "#Train test split using the .randomSplit function where train data=80% and test data=20%\n",
    "training, test = features.randomSplit([0.8,0.2])"
   ]
  },
  {
   "cell_type": "markdown",
   "metadata": {
    "id": "oWJ5J1Y8awUx"
   },
   "source": [
    "#### Vector Assembler : A feature transformer that merges multiple columns into a vector column. so that spark can read the data and perform the model building actions"
   ]
  },
  {
   "cell_type": "code",
   "execution_count": 33,
   "metadata": {
    "id": "JELRFNReNRyD"
   },
   "outputs": [],
   "source": [
    "# Make VectorAssembler - this is a Pypark specific step\n",
    "# All input features must be in one column before feeding into the model\n",
    "\n",
    "#Vector Assembler : A feature transformer that merges multiple columns into a vector column.\n",
    "assembler = VectorAssembler(inputCols=[\"userId\",\"song_count\",\"error\",\"friends\",\"playlist_count\", \\\n",
    "                                       \"thumbs_up\",\"thumbs_down\",\"downgrade\", \"count_session_dist\",\\\n",
    "                                       \"count_diff_time\",\"pages_per_session\", \"duration\",\"level_shift\",\\\n",
    "                                       \"usage_time\"], \\\n",
    "                            outputCol=\"inputFeatures\")"
   ]
  },
  {
   "cell_type": "markdown",
   "metadata": {
    "id": "QIrAMiVMbAFL"
   },
   "source": [
    "#### Scaling the data"
   ]
  },
  {
   "cell_type": "code",
   "execution_count": 34,
   "metadata": {
    "id": "iGs4XkTn4U3x"
   },
   "outputs": [],
   "source": [
    "#Normalize Data i.e. scaling the data\n",
    "scaler = Normalizer(inputCol = \"inputFeatures\",outputCol=\"features\")"
   ]
  },
  {
   "cell_type": "markdown",
   "metadata": {
    "id": "6v5L7hRUas9_"
   },
   "source": [
    "#### **Creating an instance for the models we are about to train**"
   ]
  },
  {
   "cell_type": "code",
   "execution_count": 35,
   "metadata": {
    "id": "aDInpbib6MCp"
   },
   "outputs": [],
   "source": [
    "lr = LogisticRegression() #Logistic Regression\n",
    "gbt = GBTClassifier() #Gradient Boost Classifier\n",
    "rf = RandomForestClassifier() #random Forest Classifier"
   ]
  },
  {
   "cell_type": "markdown",
   "metadata": {
    "id": "GrDQbX_fd6qn"
   },
   "source": [
    "### **Building Pipelines**\n",
    "##### A Pipeline is specified as a sequence of stages, and each stage is either a Transformer or an Estimator.\n",
    "##### Here we are specifying to first perform vector assembler, then scaling and then creating an instance for the model"
   ]
  },
  {
   "cell_type": "code",
   "execution_count": 36,
   "metadata": {
    "id": "5RuVPV1hNidS"
   },
   "outputs": [],
   "source": [
    "#Building pipelines\n",
    "#A Pipeline is specified as a sequence of stages, and each stage is either a Transformer or an Estimator\n",
    "\n",
    "pipeline1 = Pipeline(stages=[assembler, scaler,lr]) \n",
    "pipeline2 = Pipeline(stages=[assembler, scaler,gbt])\n",
    "pipeline3 = Pipeline(stages=[assembler, scaler,rf])"
   ]
  },
  {
   "cell_type": "markdown",
   "metadata": {
    "id": "iB3T_ayEew6R"
   },
   "source": [
    "**Choosing F1 which is the harmonic mean of precision and recall is used as an evaluation metrics**"
   ]
  },
  {
   "cell_type": "code",
   "execution_count": 37,
   "metadata": {
    "id": "PZ_DpfQbNmKy"
   },
   "outputs": [],
   "source": [
    "# metric chosen is f1 (we want to catch true positives (churn customers), but\n",
    "# we do not want to waste money on false positives (investing in retaining \n",
    "# non-churn customers, which are loyal anyway)\n",
    "# Note that Recall might also be justified to use here (if the cost offalse\n",
    "# positives is low)\n",
    "paramgrid =ParamGridBuilder()\\\n",
    ".addGrid(lr.regParam, [0.0, 0,1])\\\n",
    ".addGrid(lr.maxIter, [10])\\ \n",
    ".build()"
   ]
  },
  {
   "cell_type": "markdown",
   "metadata": {
    "id": "9pRQfmDDfGd7"
   },
   "source": [
    "### **Evaluation using F1 score**\n",
    "Unlike binary classification, multi-class classification generates an F-1 score for each class separately."
   ]
  },
  {
   "cell_type": "code",
   "execution_count": 38,
   "metadata": {
    "id": "8cEZCe83NqKD"
   },
   "outputs": [],
   "source": [
    "evaluator = MulticlassClassificationEvaluator(metricName=\"f1\")"
   ]
  },
  {
   "cell_type": "markdown",
   "metadata": {
    "id": "mapqh3NQgEjX"
   },
   "source": [
    "**ML tuning:Model selection & hyperparameter tuning**"
   ]
  },
  {
   "cell_type": "code",
   "execution_count": 39,
   "metadata": {
    "id": "SlpjeblFNwC4"
   },
   "outputs": [],
   "source": [
    "crossval= CrossValidator(estimator=pipeline1,  #for the first model\n",
    "                         estimatorParamMaps=paramgrid,\n",
    "                         evaluator = evaluator , \n",
    "                         numFolds=3\n",
    "                        )"
   ]
  },
  {
   "cell_type": "markdown",
   "metadata": {
    "id": "z5JQO8GKgl-o"
   },
   "source": [
    "#### **Fitting the training data**"
   ]
  },
  {
   "cell_type": "code",
   "execution_count": 40,
   "metadata": {
    "id": "JMTMY1Da6MfM"
   },
   "outputs": [],
   "source": [
    "cvModel1 = crossval.fit(training)"
   ]
  },
  {
   "cell_type": "markdown",
   "metadata": {
    "id": "_up9bgtLgu-U"
   },
   "source": [
    "**Evaluating the model using the test data**"
   ]
  },
  {
   "cell_type": "code",
   "execution_count": 41,
   "metadata": {
    "colab": {
     "base_uri": "https://localhost:8080/"
    },
    "id": "iwz5fvR2N105",
    "outputId": "bc3dedea-8e8a-46d1-ecfc-ad18c7426216"
   },
   "outputs": [
    {
     "data": {
      "text/plain": [
       "0.6472049689440995"
      ]
     },
     "execution_count": 41,
     "metadata": {},
     "output_type": "execute_result"
    }
   ],
   "source": [
    "evaluator.evaluate(cvModel1.transform(test))"
   ]
  },
  {
   "cell_type": "markdown",
   "metadata": {
    "id": "GnH2bct9hB0i"
   },
   "source": [
    "### Similarly we follow the similar steps for training, testing and evaluating the model for other models"
   ]
  },
  {
   "cell_type": "markdown",
   "metadata": {
    "id": "qodkzBUtN-84"
   },
   "source": [
    "## **Gradient Boosted tree Classifier**"
   ]
  },
  {
   "cell_type": "code",
   "execution_count": 57,
   "metadata": {
    "id": "jX-6AGy4N6jY"
   },
   "outputs": [],
   "source": [
    "# Specify multiple parameters in the paramgrid, in case you have\n",
    "# enough processing power \n",
    "paramgrid1 =ParamGridBuilder().build()"
   ]
  },
  {
   "cell_type": "code",
   "execution_count": 58,
   "metadata": {
    "id": "1JdqqmnnOHpZ"
   },
   "outputs": [],
   "source": [
    "evaluator=MulticlassClassificationEvaluator(metricName=\"f1\")"
   ]
  },
  {
   "cell_type": "code",
   "execution_count": 59,
   "metadata": {
    "id": "GcqwPcf1OL5n"
   },
   "outputs": [],
   "source": [
    "crossval= CrossValidator(estimator=pipeline2,  \n",
    "                         estimatorParamMaps=paramgrid1,\n",
    "                         evaluator=evaluator, \n",
    "                         numFolds=3\n",
    "                        )"
   ]
  },
  {
   "cell_type": "code",
   "execution_count": 60,
   "metadata": {
    "id": "xjf-Igy6OSIj"
   },
   "outputs": [],
   "source": [
    "cvModel2 = crossval.fit(training)"
   ]
  },
  {
   "cell_type": "code",
   "execution_count": 61,
   "metadata": {
    "colab": {
     "base_uri": "https://localhost:8080/"
    },
    "id": "rDe8NSRAOVVC",
    "outputId": "4b4e37c4-67af-4b8e-9d96-f7e2b5e6bcde"
   },
   "outputs": [
    {
     "data": {
      "text/plain": [
       "0.6526961410682341"
      ]
     },
     "execution_count": 61,
     "metadata": {},
     "output_type": "execute_result"
    }
   ],
   "source": [
    "evaluator.evaluate(cvModel2.transform(test))"
   ]
  },
  {
   "cell_type": "markdown",
   "metadata": {
    "id": "LcvBf1HSOcUx"
   },
   "source": [
    "## **Random Forest Classifier**"
   ]
  },
  {
   "cell_type": "code",
   "execution_count": 52,
   "metadata": {
    "id": "G05mOqH9OZLe"
   },
   "outputs": [],
   "source": [
    "paramgrid2 = ParamGridBuilder().build()"
   ]
  },
  {
   "cell_type": "code",
   "execution_count": 53,
   "metadata": {
    "id": "NroDWomsOj8B"
   },
   "outputs": [],
   "source": [
    "evaluator=MulticlassClassificationEvaluator(metricName=\"f1\")"
   ]
  },
  {
   "cell_type": "code",
   "execution_count": 54,
   "metadata": {
    "id": "tO7g1aXGOoTy"
   },
   "outputs": [],
   "source": [
    "crossval = CrossValidator(estimator=pipeline3,\n",
    "                          estimatorParamMaps=paramgrid2,\n",
    "                          evaluator=evaluator,\n",
    "                          numFolds=3\n",
    "                          )"
   ]
  },
  {
   "cell_type": "code",
   "execution_count": 55,
   "metadata": {
    "id": "QZZrbSEsOr2K"
   },
   "outputs": [],
   "source": [
    "cvModel3 = crossval.fit(training)"
   ]
  },
  {
   "cell_type": "code",
   "execution_count": 56,
   "metadata": {
    "colab": {
     "base_uri": "https://localhost:8080/"
    },
    "id": "Dzpwdqm6OvE7",
    "outputId": "3d14323a-e76a-4827-89be-4c806ded52c1"
   },
   "outputs": [
    {
     "data": {
      "text/plain": [
       "0.6592287169536745"
      ]
     },
     "execution_count": 56,
     "metadata": {},
     "output_type": "execute_result"
    }
   ],
   "source": [
    "evaluator.evaluate(cvModel3.transform(test))"
   ]
  },
  {
   "cell_type": "code",
   "execution_count": 62,
   "metadata": {
    "id": "lJa577JZOxsS"
   },
   "outputs": [],
   "source": [
    "predictions=cvModel2.transform(test)"
   ]
  },
  {
   "cell_type": "markdown",
   "metadata": {
    "id": "qF8dXQLXrs8T"
   },
   "source": [
    "### Thus we can conclude that in terms of performance Radom Classifier model > Gradient Boosting Classifier model > Logistic model."
   ]
  },
  {
   "cell_type": "markdown",
   "metadata": {
    "id": "soX6OjqIrTsN"
   },
   "source": [
    "### **Plotting the ROC curve for the 3rd model**\n",
    "#### An ROC curve (receiver operating characteristic curve) is a graph showing the performance of a classification model at all classification thresholds. This curve plots two parameters: True Positive Rate. False Positive Rate."
   ]
  },
  {
   "cell_type": "code",
   "execution_count": 63,
   "metadata": {
    "colab": {
     "base_uri": "https://localhost:8080/",
     "height": 295
    },
    "id": "ovfpfENWO1M7",
    "outputId": "c40a419a-ed2e-4a38-dd2a-2a0ec5b403a3"
   },
   "outputs": [
    {
     "data": {
      "image/png": "[encoded data removed]",
      "text/plain": [
       "<Figure size 432x288 with 1 Axes>"
      ]
     },
     "metadata": {
      "needs_background": "light"
     },
     "output_type": "display_data"
    }
   ],
   "source": [
    "def roc(ax, predictions, labels, title='ROC curve'):\n",
    "    pp = predictions.toPandas()['probability'].apply(lambda x:x[1]).values\n",
    "    tpr, fpr, _ = roc_curve(labels, pp)\n",
    "    ax.plot(tpr, fpr)\n",
    "    ax.set_facecolor('xkcd:wheat')\n",
    "    ax.set_xlabel('False Positive Rate')\n",
    "    ax.set_ylabel('True Positive Rate')\n",
    "    ax.set_title(title)\n",
    "    \n",
    "#plt.clf() # to be used for AWS EMR\n",
    "labels=predictions.toPandas()['label']\n",
    "fig = plt.figure()\n",
    "ax = fig.add_subplot(111)\n",
    "roc(ax, predictions,labels)"
   ]
  },
  {
   "cell_type": "code",
   "execution_count": null,
   "metadata": {
    "id": "Kc1oUHnsO9BW"
   },
   "outputs": [],
   "source": []
  }
 ],
 "metadata": {
  "colab": {
   "collapsed_sections": [],
   "provenance": []
  },
  "kernelspec": {
   "display_name": "Python 3",
   "language": "python",
   "name": "python3"
  },
  "language_info": {
   "codemirror_mode": {
    "name": "ipython",
    "version": 3
   },
   "file_extension": ".py",
   "mimetype": "text/x-python",
   "name": "python",
   "nbconvert_exporter": "python",
   "pygments_lexer": "ipython3",
   "version": "3.8.3"
  }
 },
 "nbformat": 4,
 "nbformat_minor": 1
}
